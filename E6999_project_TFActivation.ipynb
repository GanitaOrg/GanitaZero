{
  "nbformat": 4,
  "nbformat_minor": 0,
  "metadata": {
    "colab": {
      "name": "E6999_project_TFActivation.ipynb",
      "provenance": [],
      "collapsed_sections": []
    },
    "kernelspec": {
      "name": "python3",
      "display_name": "Python 3"
    },
    "language_info": {
      "name": "python"
    },
    "accelerator": "GPU",
    "widgets": {
      "application/vnd.jupyter.widget-state+json": {
        "fccd8492c2f342ef97615d18b73b57e8": {
          "model_module": "@jupyter-widgets/controls",
          "model_name": "HBoxModel",
          "state": {
            "_view_name": "HBoxView",
            "_dom_classes": [],
            "_model_name": "HBoxModel",
            "_view_module": "@jupyter-widgets/controls",
            "_model_module_version": "1.5.0",
            "_view_count": null,
            "_view_module_version": "1.5.0",
            "box_style": "",
            "layout": "IPY_MODEL_80e3b9b49ae5404e9d9ca015b629392c",
            "_model_module": "@jupyter-widgets/controls",
            "children": [
              "IPY_MODEL_7c31c3c77ca940a0973dd56660a26e7a",
              "IPY_MODEL_c086728be40e4289a9edbf72684764d3"
            ]
          }
        },
        "80e3b9b49ae5404e9d9ca015b629392c": {
          "model_module": "@jupyter-widgets/base",
          "model_name": "LayoutModel",
          "state": {
            "_view_name": "LayoutView",
            "grid_template_rows": null,
            "right": null,
            "justify_content": null,
            "_view_module": "@jupyter-widgets/base",
            "overflow": null,
            "_model_module_version": "1.2.0",
            "_view_count": null,
            "flex_flow": null,
            "width": null,
            "min_width": null,
            "border": null,
            "align_items": null,
            "bottom": null,
            "_model_module": "@jupyter-widgets/base",
            "top": null,
            "grid_column": null,
            "overflow_y": null,
            "overflow_x": null,
            "grid_auto_flow": null,
            "grid_area": null,
            "grid_template_columns": null,
            "flex": null,
            "_model_name": "LayoutModel",
            "justify_items": null,
            "grid_row": null,
            "max_height": null,
            "align_content": null,
            "visibility": null,
            "align_self": null,
            "height": null,
            "min_height": null,
            "padding": null,
            "grid_auto_rows": null,
            "grid_gap": null,
            "max_width": null,
            "order": null,
            "_view_module_version": "1.2.0",
            "grid_template_areas": null,
            "object_position": null,
            "object_fit": null,
            "grid_auto_columns": null,
            "margin": null,
            "display": null,
            "left": null
          }
        },
        "7c31c3c77ca940a0973dd56660a26e7a": {
          "model_module": "@jupyter-widgets/controls",
          "model_name": "FloatProgressModel",
          "state": {
            "_view_name": "ProgressView",
            "style": "IPY_MODEL_6411db8a44f7446691d40f82897dd2be",
            "_dom_classes": [],
            "description": "",
            "_model_name": "FloatProgressModel",
            "bar_style": "success",
            "max": 9912422,
            "_view_module": "@jupyter-widgets/controls",
            "_model_module_version": "1.5.0",
            "value": 9912422,
            "_view_count": null,
            "_view_module_version": "1.5.0",
            "orientation": "horizontal",
            "min": 0,
            "description_tooltip": null,
            "_model_module": "@jupyter-widgets/controls",
            "layout": "IPY_MODEL_8269a4d9271d4e4d910ce2f79b305f02"
          }
        },
        "c086728be40e4289a9edbf72684764d3": {
          "model_module": "@jupyter-widgets/controls",
          "model_name": "HTMLModel",
          "state": {
            "_view_name": "HTMLView",
            "style": "IPY_MODEL_d081f72d83554180abcbd7949fd3bdb6",
            "_dom_classes": [],
            "description": "",
            "_model_name": "HTMLModel",
            "placeholder": "​",
            "_view_module": "@jupyter-widgets/controls",
            "_model_module_version": "1.5.0",
            "value": " 9913344/? [07:42&lt;00:00, 21444.39it/s]",
            "_view_count": null,
            "_view_module_version": "1.5.0",
            "description_tooltip": null,
            "_model_module": "@jupyter-widgets/controls",
            "layout": "IPY_MODEL_db2845cf844b4c209bad5e6c1dc8898b"
          }
        },
        "6411db8a44f7446691d40f82897dd2be": {
          "model_module": "@jupyter-widgets/controls",
          "model_name": "ProgressStyleModel",
          "state": {
            "_view_name": "StyleView",
            "_model_name": "ProgressStyleModel",
            "description_width": "initial",
            "_view_module": "@jupyter-widgets/base",
            "_model_module_version": "1.5.0",
            "_view_count": null,
            "_view_module_version": "1.2.0",
            "bar_color": null,
            "_model_module": "@jupyter-widgets/controls"
          }
        },
        "8269a4d9271d4e4d910ce2f79b305f02": {
          "model_module": "@jupyter-widgets/base",
          "model_name": "LayoutModel",
          "state": {
            "_view_name": "LayoutView",
            "grid_template_rows": null,
            "right": null,
            "justify_content": null,
            "_view_module": "@jupyter-widgets/base",
            "overflow": null,
            "_model_module_version": "1.2.0",
            "_view_count": null,
            "flex_flow": null,
            "width": null,
            "min_width": null,
            "border": null,
            "align_items": null,
            "bottom": null,
            "_model_module": "@jupyter-widgets/base",
            "top": null,
            "grid_column": null,
            "overflow_y": null,
            "overflow_x": null,
            "grid_auto_flow": null,
            "grid_area": null,
            "grid_template_columns": null,
            "flex": null,
            "_model_name": "LayoutModel",
            "justify_items": null,
            "grid_row": null,
            "max_height": null,
            "align_content": null,
            "visibility": null,
            "align_self": null,
            "height": null,
            "min_height": null,
            "padding": null,
            "grid_auto_rows": null,
            "grid_gap": null,
            "max_width": null,
            "order": null,
            "_view_module_version": "1.2.0",
            "grid_template_areas": null,
            "object_position": null,
            "object_fit": null,
            "grid_auto_columns": null,
            "margin": null,
            "display": null,
            "left": null
          }
        },
        "d081f72d83554180abcbd7949fd3bdb6": {
          "model_module": "@jupyter-widgets/controls",
          "model_name": "DescriptionStyleModel",
          "state": {
            "_view_name": "StyleView",
            "_model_name": "DescriptionStyleModel",
            "description_width": "",
            "_view_module": "@jupyter-widgets/base",
            "_model_module_version": "1.5.0",
            "_view_count": null,
            "_view_module_version": "1.2.0",
            "_model_module": "@jupyter-widgets/controls"
          }
        },
        "db2845cf844b4c209bad5e6c1dc8898b": {
          "model_module": "@jupyter-widgets/base",
          "model_name": "LayoutModel",
          "state": {
            "_view_name": "LayoutView",
            "grid_template_rows": null,
            "right": null,
            "justify_content": null,
            "_view_module": "@jupyter-widgets/base",
            "overflow": null,
            "_model_module_version": "1.2.0",
            "_view_count": null,
            "flex_flow": null,
            "width": null,
            "min_width": null,
            "border": null,
            "align_items": null,
            "bottom": null,
            "_model_module": "@jupyter-widgets/base",
            "top": null,
            "grid_column": null,
            "overflow_y": null,
            "overflow_x": null,
            "grid_auto_flow": null,
            "grid_area": null,
            "grid_template_columns": null,
            "flex": null,
            "_model_name": "LayoutModel",
            "justify_items": null,
            "grid_row": null,
            "max_height": null,
            "align_content": null,
            "visibility": null,
            "align_self": null,
            "height": null,
            "min_height": null,
            "padding": null,
            "grid_auto_rows": null,
            "grid_gap": null,
            "max_width": null,
            "order": null,
            "_view_module_version": "1.2.0",
            "grid_template_areas": null,
            "object_position": null,
            "object_fit": null,
            "grid_auto_columns": null,
            "margin": null,
            "display": null,
            "left": null
          }
        },
        "5c688edafcbb44e8ad9689ec9a653df6": {
          "model_module": "@jupyter-widgets/controls",
          "model_name": "HBoxModel",
          "state": {
            "_view_name": "HBoxView",
            "_dom_classes": [],
            "_model_name": "HBoxModel",
            "_view_module": "@jupyter-widgets/controls",
            "_model_module_version": "1.5.0",
            "_view_count": null,
            "_view_module_version": "1.5.0",
            "box_style": "",
            "layout": "IPY_MODEL_1ffe8ea540854e0d883c0661276b6593",
            "_model_module": "@jupyter-widgets/controls",
            "children": [
              "IPY_MODEL_9936175b264f45dbbfa108a507097f5f",
              "IPY_MODEL_06b34d57eddb490993d0bac158bafe9d"
            ]
          }
        },
        "1ffe8ea540854e0d883c0661276b6593": {
          "model_module": "@jupyter-widgets/base",
          "model_name": "LayoutModel",
          "state": {
            "_view_name": "LayoutView",
            "grid_template_rows": null,
            "right": null,
            "justify_content": null,
            "_view_module": "@jupyter-widgets/base",
            "overflow": null,
            "_model_module_version": "1.2.0",
            "_view_count": null,
            "flex_flow": null,
            "width": null,
            "min_width": null,
            "border": null,
            "align_items": null,
            "bottom": null,
            "_model_module": "@jupyter-widgets/base",
            "top": null,
            "grid_column": null,
            "overflow_y": null,
            "overflow_x": null,
            "grid_auto_flow": null,
            "grid_area": null,
            "grid_template_columns": null,
            "flex": null,
            "_model_name": "LayoutModel",
            "justify_items": null,
            "grid_row": null,
            "max_height": null,
            "align_content": null,
            "visibility": null,
            "align_self": null,
            "height": null,
            "min_height": null,
            "padding": null,
            "grid_auto_rows": null,
            "grid_gap": null,
            "max_width": null,
            "order": null,
            "_view_module_version": "1.2.0",
            "grid_template_areas": null,
            "object_position": null,
            "object_fit": null,
            "grid_auto_columns": null,
            "margin": null,
            "display": null,
            "left": null
          }
        },
        "9936175b264f45dbbfa108a507097f5f": {
          "model_module": "@jupyter-widgets/controls",
          "model_name": "FloatProgressModel",
          "state": {
            "_view_name": "ProgressView",
            "style": "IPY_MODEL_c0262569c8724374a28efd8934a9fd24",
            "_dom_classes": [],
            "description": "",
            "_model_name": "FloatProgressModel",
            "bar_style": "success",
            "max": 28881,
            "_view_module": "@jupyter-widgets/controls",
            "_model_module_version": "1.5.0",
            "value": 28881,
            "_view_count": null,
            "_view_module_version": "1.5.0",
            "orientation": "horizontal",
            "min": 0,
            "description_tooltip": null,
            "_model_module": "@jupyter-widgets/controls",
            "layout": "IPY_MODEL_dc18d92e5d9745c1bf1805803b5f2a9c"
          }
        },
        "06b34d57eddb490993d0bac158bafe9d": {
          "model_module": "@jupyter-widgets/controls",
          "model_name": "HTMLModel",
          "state": {
            "_view_name": "HTMLView",
            "style": "IPY_MODEL_ab89abc17d434291bfb4289c3944e3cb",
            "_dom_classes": [],
            "description": "",
            "_model_name": "HTMLModel",
            "placeholder": "​",
            "_view_module": "@jupyter-widgets/controls",
            "_model_module_version": "1.5.0",
            "value": " 29696/? [06:19&lt;00:00, 78.25it/s]",
            "_view_count": null,
            "_view_module_version": "1.5.0",
            "description_tooltip": null,
            "_model_module": "@jupyter-widgets/controls",
            "layout": "IPY_MODEL_d465127b73e64e49bfbc091e0f023b65"
          }
        },
        "c0262569c8724374a28efd8934a9fd24": {
          "model_module": "@jupyter-widgets/controls",
          "model_name": "ProgressStyleModel",
          "state": {
            "_view_name": "StyleView",
            "_model_name": "ProgressStyleModel",
            "description_width": "initial",
            "_view_module": "@jupyter-widgets/base",
            "_model_module_version": "1.5.0",
            "_view_count": null,
            "_view_module_version": "1.2.0",
            "bar_color": null,
            "_model_module": "@jupyter-widgets/controls"
          }
        },
        "dc18d92e5d9745c1bf1805803b5f2a9c": {
          "model_module": "@jupyter-widgets/base",
          "model_name": "LayoutModel",
          "state": {
            "_view_name": "LayoutView",
            "grid_template_rows": null,
            "right": null,
            "justify_content": null,
            "_view_module": "@jupyter-widgets/base",
            "overflow": null,
            "_model_module_version": "1.2.0",
            "_view_count": null,
            "flex_flow": null,
            "width": null,
            "min_width": null,
            "border": null,
            "align_items": null,
            "bottom": null,
            "_model_module": "@jupyter-widgets/base",
            "top": null,
            "grid_column": null,
            "overflow_y": null,
            "overflow_x": null,
            "grid_auto_flow": null,
            "grid_area": null,
            "grid_template_columns": null,
            "flex": null,
            "_model_name": "LayoutModel",
            "justify_items": null,
            "grid_row": null,
            "max_height": null,
            "align_content": null,
            "visibility": null,
            "align_self": null,
            "height": null,
            "min_height": null,
            "padding": null,
            "grid_auto_rows": null,
            "grid_gap": null,
            "max_width": null,
            "order": null,
            "_view_module_version": "1.2.0",
            "grid_template_areas": null,
            "object_position": null,
            "object_fit": null,
            "grid_auto_columns": null,
            "margin": null,
            "display": null,
            "left": null
          }
        },
        "ab89abc17d434291bfb4289c3944e3cb": {
          "model_module": "@jupyter-widgets/controls",
          "model_name": "DescriptionStyleModel",
          "state": {
            "_view_name": "StyleView",
            "_model_name": "DescriptionStyleModel",
            "description_width": "",
            "_view_module": "@jupyter-widgets/base",
            "_model_module_version": "1.5.0",
            "_view_count": null,
            "_view_module_version": "1.2.0",
            "_model_module": "@jupyter-widgets/controls"
          }
        },
        "d465127b73e64e49bfbc091e0f023b65": {
          "model_module": "@jupyter-widgets/base",
          "model_name": "LayoutModel",
          "state": {
            "_view_name": "LayoutView",
            "grid_template_rows": null,
            "right": null,
            "justify_content": null,
            "_view_module": "@jupyter-widgets/base",
            "overflow": null,
            "_model_module_version": "1.2.0",
            "_view_count": null,
            "flex_flow": null,
            "width": null,
            "min_width": null,
            "border": null,
            "align_items": null,
            "bottom": null,
            "_model_module": "@jupyter-widgets/base",
            "top": null,
            "grid_column": null,
            "overflow_y": null,
            "overflow_x": null,
            "grid_auto_flow": null,
            "grid_area": null,
            "grid_template_columns": null,
            "flex": null,
            "_model_name": "LayoutModel",
            "justify_items": null,
            "grid_row": null,
            "max_height": null,
            "align_content": null,
            "visibility": null,
            "align_self": null,
            "height": null,
            "min_height": null,
            "padding": null,
            "grid_auto_rows": null,
            "grid_gap": null,
            "max_width": null,
            "order": null,
            "_view_module_version": "1.2.0",
            "grid_template_areas": null,
            "object_position": null,
            "object_fit": null,
            "grid_auto_columns": null,
            "margin": null,
            "display": null,
            "left": null
          }
        },
        "04b3eae52f6f4ccabe2309ec1b0b40b9": {
          "model_module": "@jupyter-widgets/controls",
          "model_name": "HBoxModel",
          "state": {
            "_view_name": "HBoxView",
            "_dom_classes": [],
            "_model_name": "HBoxModel",
            "_view_module": "@jupyter-widgets/controls",
            "_model_module_version": "1.5.0",
            "_view_count": null,
            "_view_module_version": "1.5.0",
            "box_style": "",
            "layout": "IPY_MODEL_b9ac8cca221442e19cd1a35b99133efb",
            "_model_module": "@jupyter-widgets/controls",
            "children": [
              "IPY_MODEL_64eb2e927a9f4e3292d1a90ef0e37900",
              "IPY_MODEL_cbd82a7840304a93b5eee030cd5bb44c"
            ]
          }
        },
        "b9ac8cca221442e19cd1a35b99133efb": {
          "model_module": "@jupyter-widgets/base",
          "model_name": "LayoutModel",
          "state": {
            "_view_name": "LayoutView",
            "grid_template_rows": null,
            "right": null,
            "justify_content": null,
            "_view_module": "@jupyter-widgets/base",
            "overflow": null,
            "_model_module_version": "1.2.0",
            "_view_count": null,
            "flex_flow": null,
            "width": null,
            "min_width": null,
            "border": null,
            "align_items": null,
            "bottom": null,
            "_model_module": "@jupyter-widgets/base",
            "top": null,
            "grid_column": null,
            "overflow_y": null,
            "overflow_x": null,
            "grid_auto_flow": null,
            "grid_area": null,
            "grid_template_columns": null,
            "flex": null,
            "_model_name": "LayoutModel",
            "justify_items": null,
            "grid_row": null,
            "max_height": null,
            "align_content": null,
            "visibility": null,
            "align_self": null,
            "height": null,
            "min_height": null,
            "padding": null,
            "grid_auto_rows": null,
            "grid_gap": null,
            "max_width": null,
            "order": null,
            "_view_module_version": "1.2.0",
            "grid_template_areas": null,
            "object_position": null,
            "object_fit": null,
            "grid_auto_columns": null,
            "margin": null,
            "display": null,
            "left": null
          }
        },
        "64eb2e927a9f4e3292d1a90ef0e37900": {
          "model_module": "@jupyter-widgets/controls",
          "model_name": "FloatProgressModel",
          "state": {
            "_view_name": "ProgressView",
            "style": "IPY_MODEL_98f7969c3bf24c158e78318c7e8d3d3d",
            "_dom_classes": [],
            "description": "",
            "_model_name": "FloatProgressModel",
            "bar_style": "success",
            "max": 1648877,
            "_view_module": "@jupyter-widgets/controls",
            "_model_module_version": "1.5.0",
            "value": 1648877,
            "_view_count": null,
            "_view_module_version": "1.5.0",
            "orientation": "horizontal",
            "min": 0,
            "description_tooltip": null,
            "_model_module": "@jupyter-widgets/controls",
            "layout": "IPY_MODEL_e5ae77d1806647ee870fb6a4fe449784"
          }
        },
        "cbd82a7840304a93b5eee030cd5bb44c": {
          "model_module": "@jupyter-widgets/controls",
          "model_name": "HTMLModel",
          "state": {
            "_view_name": "HTMLView",
            "style": "IPY_MODEL_cee09c71161241b091a841c80191be29",
            "_dom_classes": [],
            "description": "",
            "_model_name": "HTMLModel",
            "placeholder": "​",
            "_view_module": "@jupyter-widgets/controls",
            "_model_module_version": "1.5.0",
            "value": " 1649664/? [00:00&lt;00:00, 2324655.28it/s]",
            "_view_count": null,
            "_view_module_version": "1.5.0",
            "description_tooltip": null,
            "_model_module": "@jupyter-widgets/controls",
            "layout": "IPY_MODEL_3fa9a455de9b45189b9b53a11bd22a14"
          }
        },
        "98f7969c3bf24c158e78318c7e8d3d3d": {
          "model_module": "@jupyter-widgets/controls",
          "model_name": "ProgressStyleModel",
          "state": {
            "_view_name": "StyleView",
            "_model_name": "ProgressStyleModel",
            "description_width": "initial",
            "_view_module": "@jupyter-widgets/base",
            "_model_module_version": "1.5.0",
            "_view_count": null,
            "_view_module_version": "1.2.0",
            "bar_color": null,
            "_model_module": "@jupyter-widgets/controls"
          }
        },
        "e5ae77d1806647ee870fb6a4fe449784": {
          "model_module": "@jupyter-widgets/base",
          "model_name": "LayoutModel",
          "state": {
            "_view_name": "LayoutView",
            "grid_template_rows": null,
            "right": null,
            "justify_content": null,
            "_view_module": "@jupyter-widgets/base",
            "overflow": null,
            "_model_module_version": "1.2.0",
            "_view_count": null,
            "flex_flow": null,
            "width": null,
            "min_width": null,
            "border": null,
            "align_items": null,
            "bottom": null,
            "_model_module": "@jupyter-widgets/base",
            "top": null,
            "grid_column": null,
            "overflow_y": null,
            "overflow_x": null,
            "grid_auto_flow": null,
            "grid_area": null,
            "grid_template_columns": null,
            "flex": null,
            "_model_name": "LayoutModel",
            "justify_items": null,
            "grid_row": null,
            "max_height": null,
            "align_content": null,
            "visibility": null,
            "align_self": null,
            "height": null,
            "min_height": null,
            "padding": null,
            "grid_auto_rows": null,
            "grid_gap": null,
            "max_width": null,
            "order": null,
            "_view_module_version": "1.2.0",
            "grid_template_areas": null,
            "object_position": null,
            "object_fit": null,
            "grid_auto_columns": null,
            "margin": null,
            "display": null,
            "left": null
          }
        },
        "cee09c71161241b091a841c80191be29": {
          "model_module": "@jupyter-widgets/controls",
          "model_name": "DescriptionStyleModel",
          "state": {
            "_view_name": "StyleView",
            "_model_name": "DescriptionStyleModel",
            "description_width": "",
            "_view_module": "@jupyter-widgets/base",
            "_model_module_version": "1.5.0",
            "_view_count": null,
            "_view_module_version": "1.2.0",
            "_model_module": "@jupyter-widgets/controls"
          }
        },
        "3fa9a455de9b45189b9b53a11bd22a14": {
          "model_module": "@jupyter-widgets/base",
          "model_name": "LayoutModel",
          "state": {
            "_view_name": "LayoutView",
            "grid_template_rows": null,
            "right": null,
            "justify_content": null,
            "_view_module": "@jupyter-widgets/base",
            "overflow": null,
            "_model_module_version": "1.2.0",
            "_view_count": null,
            "flex_flow": null,
            "width": null,
            "min_width": null,
            "border": null,
            "align_items": null,
            "bottom": null,
            "_model_module": "@jupyter-widgets/base",
            "top": null,
            "grid_column": null,
            "overflow_y": null,
            "overflow_x": null,
            "grid_auto_flow": null,
            "grid_area": null,
            "grid_template_columns": null,
            "flex": null,
            "_model_name": "LayoutModel",
            "justify_items": null,
            "grid_row": null,
            "max_height": null,
            "align_content": null,
            "visibility": null,
            "align_self": null,
            "height": null,
            "min_height": null,
            "padding": null,
            "grid_auto_rows": null,
            "grid_gap": null,
            "max_width": null,
            "order": null,
            "_view_module_version": "1.2.0",
            "grid_template_areas": null,
            "object_position": null,
            "object_fit": null,
            "grid_auto_columns": null,
            "margin": null,
            "display": null,
            "left": null
          }
        },
        "244229bd220044ffb836e1e5d1ea5e9d": {
          "model_module": "@jupyter-widgets/controls",
          "model_name": "HBoxModel",
          "state": {
            "_view_name": "HBoxView",
            "_dom_classes": [],
            "_model_name": "HBoxModel",
            "_view_module": "@jupyter-widgets/controls",
            "_model_module_version": "1.5.0",
            "_view_count": null,
            "_view_module_version": "1.5.0",
            "box_style": "",
            "layout": "IPY_MODEL_55f53163ec444c669ce6ab6a8d0d30fd",
            "_model_module": "@jupyter-widgets/controls",
            "children": [
              "IPY_MODEL_72f23029a3f948e694356961fb42e281",
              "IPY_MODEL_a806eddfbb3c4507a6ae1892ef304c2f"
            ]
          }
        },
        "55f53163ec444c669ce6ab6a8d0d30fd": {
          "model_module": "@jupyter-widgets/base",
          "model_name": "LayoutModel",
          "state": {
            "_view_name": "LayoutView",
            "grid_template_rows": null,
            "right": null,
            "justify_content": null,
            "_view_module": "@jupyter-widgets/base",
            "overflow": null,
            "_model_module_version": "1.2.0",
            "_view_count": null,
            "flex_flow": null,
            "width": null,
            "min_width": null,
            "border": null,
            "align_items": null,
            "bottom": null,
            "_model_module": "@jupyter-widgets/base",
            "top": null,
            "grid_column": null,
            "overflow_y": null,
            "overflow_x": null,
            "grid_auto_flow": null,
            "grid_area": null,
            "grid_template_columns": null,
            "flex": null,
            "_model_name": "LayoutModel",
            "justify_items": null,
            "grid_row": null,
            "max_height": null,
            "align_content": null,
            "visibility": null,
            "align_self": null,
            "height": null,
            "min_height": null,
            "padding": null,
            "grid_auto_rows": null,
            "grid_gap": null,
            "max_width": null,
            "order": null,
            "_view_module_version": "1.2.0",
            "grid_template_areas": null,
            "object_position": null,
            "object_fit": null,
            "grid_auto_columns": null,
            "margin": null,
            "display": null,
            "left": null
          }
        },
        "72f23029a3f948e694356961fb42e281": {
          "model_module": "@jupyter-widgets/controls",
          "model_name": "FloatProgressModel",
          "state": {
            "_view_name": "ProgressView",
            "style": "IPY_MODEL_ac0b7e597be24529ba37e0f44258aaa9",
            "_dom_classes": [],
            "description": "",
            "_model_name": "FloatProgressModel",
            "bar_style": "success",
            "max": 4542,
            "_view_module": "@jupyter-widgets/controls",
            "_model_module_version": "1.5.0",
            "value": 4542,
            "_view_count": null,
            "_view_module_version": "1.5.0",
            "orientation": "horizontal",
            "min": 0,
            "description_tooltip": null,
            "_model_module": "@jupyter-widgets/controls",
            "layout": "IPY_MODEL_553f895c1e724472a2df999de9bcb946"
          }
        },
        "a806eddfbb3c4507a6ae1892ef304c2f": {
          "model_module": "@jupyter-widgets/controls",
          "model_name": "HTMLModel",
          "state": {
            "_view_name": "HTMLView",
            "style": "IPY_MODEL_27f000e805ae4cfbbcc85d2afb17a8d1",
            "_dom_classes": [],
            "description": "",
            "_model_name": "HTMLModel",
            "placeholder": "​",
            "_view_module": "@jupyter-widgets/controls",
            "_model_module_version": "1.5.0",
            "value": " 5120/? [00:00&lt;00:00, 21720.10it/s]",
            "_view_count": null,
            "_view_module_version": "1.5.0",
            "description_tooltip": null,
            "_model_module": "@jupyter-widgets/controls",
            "layout": "IPY_MODEL_2c64f92249c94e249e1215ab8404bfb5"
          }
        },
        "ac0b7e597be24529ba37e0f44258aaa9": {
          "model_module": "@jupyter-widgets/controls",
          "model_name": "ProgressStyleModel",
          "state": {
            "_view_name": "StyleView",
            "_model_name": "ProgressStyleModel",
            "description_width": "initial",
            "_view_module": "@jupyter-widgets/base",
            "_model_module_version": "1.5.0",
            "_view_count": null,
            "_view_module_version": "1.2.0",
            "bar_color": null,
            "_model_module": "@jupyter-widgets/controls"
          }
        },
        "553f895c1e724472a2df999de9bcb946": {
          "model_module": "@jupyter-widgets/base",
          "model_name": "LayoutModel",
          "state": {
            "_view_name": "LayoutView",
            "grid_template_rows": null,
            "right": null,
            "justify_content": null,
            "_view_module": "@jupyter-widgets/base",
            "overflow": null,
            "_model_module_version": "1.2.0",
            "_view_count": null,
            "flex_flow": null,
            "width": null,
            "min_width": null,
            "border": null,
            "align_items": null,
            "bottom": null,
            "_model_module": "@jupyter-widgets/base",
            "top": null,
            "grid_column": null,
            "overflow_y": null,
            "overflow_x": null,
            "grid_auto_flow": null,
            "grid_area": null,
            "grid_template_columns": null,
            "flex": null,
            "_model_name": "LayoutModel",
            "justify_items": null,
            "grid_row": null,
            "max_height": null,
            "align_content": null,
            "visibility": null,
            "align_self": null,
            "height": null,
            "min_height": null,
            "padding": null,
            "grid_auto_rows": null,
            "grid_gap": null,
            "max_width": null,
            "order": null,
            "_view_module_version": "1.2.0",
            "grid_template_areas": null,
            "object_position": null,
            "object_fit": null,
            "grid_auto_columns": null,
            "margin": null,
            "display": null,
            "left": null
          }
        },
        "27f000e805ae4cfbbcc85d2afb17a8d1": {
          "model_module": "@jupyter-widgets/controls",
          "model_name": "DescriptionStyleModel",
          "state": {
            "_view_name": "StyleView",
            "_model_name": "DescriptionStyleModel",
            "description_width": "",
            "_view_module": "@jupyter-widgets/base",
            "_model_module_version": "1.5.0",
            "_view_count": null,
            "_view_module_version": "1.2.0",
            "_model_module": "@jupyter-widgets/controls"
          }
        },
        "2c64f92249c94e249e1215ab8404bfb5": {
          "model_module": "@jupyter-widgets/base",
          "model_name": "LayoutModel",
          "state": {
            "_view_name": "LayoutView",
            "grid_template_rows": null,
            "right": null,
            "justify_content": null,
            "_view_module": "@jupyter-widgets/base",
            "overflow": null,
            "_model_module_version": "1.2.0",
            "_view_count": null,
            "flex_flow": null,
            "width": null,
            "min_width": null,
            "border": null,
            "align_items": null,
            "bottom": null,
            "_model_module": "@jupyter-widgets/base",
            "top": null,
            "grid_column": null,
            "overflow_y": null,
            "overflow_x": null,
            "grid_auto_flow": null,
            "grid_area": null,
            "grid_template_columns": null,
            "flex": null,
            "_model_name": "LayoutModel",
            "justify_items": null,
            "grid_row": null,
            "max_height": null,
            "align_content": null,
            "visibility": null,
            "align_self": null,
            "height": null,
            "min_height": null,
            "padding": null,
            "grid_auto_rows": null,
            "grid_gap": null,
            "max_width": null,
            "order": null,
            "_view_module_version": "1.2.0",
            "grid_template_areas": null,
            "object_position": null,
            "object_fit": null,
            "grid_auto_columns": null,
            "margin": null,
            "display": null,
            "left": null
          }
        }
      }
    }
  },
  "cells": [
    {
      "cell_type": "code",
      "metadata": {
        "id": "2Fz-olHqb6EH"
      },
      "source": [
        "import torch\n",
        "import matplotlib.pyplot as plt\n",
        "from torch import nn\n",
        "import torchvision"
      ],
      "execution_count": 1,
      "outputs": []
    },
    {
      "cell_type": "markdown",
      "metadata": {
        "id": "sWt-iFMid-6m"
      },
      "source": [
        "##**Regression**##"
      ]
    },
    {
      "cell_type": "code",
      "metadata": {
        "colab": {
          "base_uri": "https://localhost:8080/",
          "height": 265
        },
        "id": "P9tSxP3Tb-uR",
        "outputId": "3615f165-5a98-4785-e8e9-f06bb996a12d"
      },
      "source": [
        "x = torch.linspace(start=-10, end=10, steps=10000).unsqueeze(1) # 10000 equally spaced values between [-10, 10]\n",
        "y = torch.sin(x) + 0.2*torch.normal(mean=torch.zeros_like(x), std=torch.ones_like(x))\n",
        "plt.scatter(x, y)\n",
        "plt.show()"
      ],
      "execution_count": 33,
      "outputs": [
        {
          "output_type": "display_data",
          "data": {
            "image/png": "[encoded data removed]",
            "text/plain": [
              "<Figure size 432x288 with 1 Axes>"
            ]
          },
          "metadata": {
            "tags": [],
            "needs_background": "light"
          }
        }
      ]
    },
    {
      "cell_type": "code",
      "metadata": {
        "id": "GbRHxZEIcIft"
      },
      "source": [
        "x_test = torch.linspace(start=-10, end=10, steps=5000).unsqueeze(1) \n",
        "y_test = torch.sin(x_test)"
      ],
      "execution_count": 34,
      "outputs": []
    },
    {
      "cell_type": "markdown",
      "metadata": {
        "id": "vri3bZAjiPMR"
      },
      "source": [
        "**Define the Thromposon Group F function as the activation function**"
      ]
    },
    {
      "cell_type": "code",
      "metadata": {
        "id": "Th6l-ezDcRlV"
      },
      "source": [
        "from torch.nn.functional import relu\n",
        "def tfact(x):\n",
        "    return relu(2*x) - relu(x-1/4) - relu(x/2 - 1/4)\n",
        "\n",
        "class TFact(nn.Module):\n",
        "    def __init__(self):\n",
        "        '''\n",
        "        Init method.\n",
        "        '''\n",
        "        super().__init__() # init the base class\n",
        "\n",
        "    def forward(self, input):\n",
        "        '''\n",
        "        Forward pass of the function.\n",
        "        '''\n",
        "        return tfact(input)"
      ],
      "execution_count": 26,
      "outputs": []
    },
    {
      "cell_type": "code",
      "metadata": {
        "id": "rWYGZhvTcNfm"
      },
      "source": [
        "model = torch.nn.Sequential(\n",
        "            torch.nn.Linear(1, 100),\n",
        "            TFact(),\n",
        "            torch.nn.Linear(100,1000),\n",
        "            TFact(),\n",
        "            torch.nn.Linear(1000, 1)\n",
        "        )\n",
        "\n",
        "optimizer = torch.optim.Adam(model.parameters(), lr=0.001)\n",
        "y_hat = model(x)"
      ],
      "execution_count": 29,
      "outputs": []
    },
    {
      "cell_type": "code",
      "metadata": {
        "colab": {
          "base_uri": "https://localhost:8080/",
          "height": 265
        },
        "id": "FYJxx-Rbconj",
        "outputId": "593012d0-7908-4604-e7fd-7d85f9a740ab"
      },
      "source": [
        "plt.scatter(x, y, label=\"ground-truth\")\n",
        "plt.scatter(x, y_hat.detach(), label=\"prediction\")\n",
        "plt.legend(loc=\"upper right\")\n",
        "plt.show()"
      ],
      "execution_count": 35,
      "outputs": [
        {
          "output_type": "display_data",
          "data": {
            "image/png": "[encoded data removed]",
            "text/plain": [
              "<Figure size 432x288 with 1 Axes>"
            ]
          },
          "metadata": {
            "tags": [],
            "needs_background": "light"
          }
        }
      ]
    },
    {
      "cell_type": "code",
      "metadata": {
        "colab": {
          "base_uri": "https://localhost:8080/"
        },
        "id": "uCh7sSl2crQY",
        "outputId": "2d24ada2-758d-48ea-fcf1-af6d2c9e313c"
      },
      "source": [
        "L = torch.mean(((y_hat-y)**2))\n",
        "print(\"The average loss or error in the model's predictions compared to the ground truth is %.4f\" % (L))"
      ],
      "execution_count": 36,
      "outputs": [
        {
          "output_type": "stream",
          "text": [
            "The average loss or error in the model's predictions compared to the ground truth is 0.5310\n"
          ],
          "name": "stdout"
        }
      ]
    },
    {
      "cell_type": "code",
      "metadata": {
        "id": "06zSjzt_hpiI"
      },
      "source": [
        "device = torch.device(\"cuda:0\" if torch.cuda.is_available() else \"cpu\")\n",
        "model.to(device)\n",
        "x=x.to(device)\n",
        "y = y.to(device)"
      ],
      "execution_count": 37,
      "outputs": []
    },
    {
      "cell_type": "code",
      "metadata": {
        "colab": {
          "base_uri": "https://localhost:8080/"
        },
        "id": "xucxH_0Dcugw",
        "outputId": "bd099455-2bb2-4406-c887-b7c6aca3ab0b"
      },
      "source": [
        "alpha = 0.01\n",
        "error_tolerance = 0.04\n",
        "i=0\n",
        "while L > error_tolerance:\n",
        "    # forward pass\n",
        "    y_hat = model(x)\n",
        "    L = torch.mean((y_hat-y)**2)\n",
        "    if i%10 == 0:\n",
        "        print(L.item())\n",
        "    i += 1\n",
        "    # backward pass\n",
        "    optimizer.zero_grad()\n",
        "    L.backward()\n",
        "        \n",
        "    # update parameters\n",
        "    optimizer.step() "
      ],
      "execution_count": 38,
      "outputs": [
        {
          "output_type": "stream",
          "text": [
            "0.5310150980949402\n",
            "0.38314321637153625\n",
            "0.29536548256874084\n",
            "0.2355920821428299\n",
            "0.1980854570865631\n",
            "0.1671105921268463\n",
            "0.147273451089859\n",
            "0.1355804204940796\n",
            "0.12828326225280762\n",
            "0.12292394787073135\n",
            "0.11803551763296127\n",
            "0.11314740777015686\n",
            "0.10834681987762451\n",
            "0.10320307314395905\n",
            "0.09807728230953217\n",
            "0.09308479726314545\n",
            "0.08927407115697861\n",
            "0.08366769552230835\n",
            "0.07999493181705475\n",
            "0.07561612129211426\n",
            "0.07989917695522308\n",
            "0.07007481157779694\n",
            "0.06609859317541122\n",
            "0.06387677788734436\n",
            "0.06278014183044434\n",
            "0.05896694213151932\n",
            "0.05710025504231453\n",
            "0.06324680894613266\n",
            "0.05680997297167778\n",
            "0.05280798301100731\n",
            "0.053843069821596146\n",
            "0.04999888315796852\n",
            "0.05054950341582298\n",
            "0.05074325576424599\n",
            "0.04871425777673721\n",
            "0.04948005452752113\n",
            "0.04689588397741318\n",
            "0.046983059495687485\n",
            "0.047343138605356216\n",
            "0.04473331943154335\n",
            "0.04888762906193733\n",
            "0.05367681756615639\n",
            "0.045081693679094315\n",
            "0.044192224740982056\n",
            "0.042823269963264465\n",
            "0.04276015982031822\n",
            "0.04240135848522186\n",
            "0.05358968302607536\n",
            "0.0476466566324234\n",
            "0.04280068725347519\n",
            "0.04308402165770531\n",
            "0.042134109884500504\n",
            "0.041415344923734665\n",
            "0.04192686825990677\n",
            "0.055448245257139206\n",
            "0.043948668986558914\n",
            "0.041563715785741806\n",
            "0.041035547852516174\n",
            "0.0408695712685585\n",
            "0.04093862324953079\n",
            "0.040711887180805206\n",
            "0.04268280044198036\n",
            "0.04084857553243637\n",
            "0.043150290846824646\n",
            "0.041331592947244644\n",
            "0.04133855924010277\n",
            "0.0408785343170166\n",
            "0.04050840809941292\n",
            "0.04054785892367363\n",
            "0.046339746564626694\n",
            "0.04389422386884689\n",
            "0.04188895598053932\n",
            "0.04047219827771187\n",
            "0.04056038334965706\n",
            "0.04083032160997391\n",
            "0.04155740886926651\n",
            "0.044589485973119736\n",
            "0.04079265147447586\n",
            "0.041823823004961014\n",
            "0.04051603376865387\n",
            "0.041227418929338455\n",
            "0.052146654576063156\n",
            "0.041701506823301315\n",
            "0.04201040044426918\n",
            "0.04072120785713196\n",
            "0.04069991037249565\n",
            "0.04034256935119629\n",
            "0.04125533252954483\n",
            "0.045002762228250504\n",
            "0.04160165414214134\n",
            "0.040311213582754135\n",
            "0.04111883416771889\n",
            "0.04717426747083664\n",
            "0.04277639836072922\n",
            "0.04083123058080673\n",
            "0.041385747492313385\n",
            "0.04034276679158211\n",
            "0.0406770259141922\n",
            "0.05580970272421837\n",
            "0.04098990187048912\n",
            "0.04160621762275696\n",
            "0.041091032326221466\n",
            "0.04043012112379074\n",
            "0.04034056141972542\n",
            "0.04018288478255272\n",
            "0.04034164920449257\n",
            "0.053072404116392136\n",
            "0.04536774009466171\n",
            "0.04038441553711891\n",
            "0.04075603932142258\n",
            "0.040373168885707855\n",
            "0.04021814465522766\n",
            "0.04032091051340103\n",
            "0.04176786169409752\n",
            "0.04369141533970833\n",
            "0.04189504310488701\n",
            "0.04035406932234764\n",
            "0.04234480485320091\n",
            "0.04169980064034462\n",
            "0.040693048387765884\n",
            "0.043954502791166306\n",
            "0.040159545838832855\n",
            "0.04217749089002609\n",
            "0.040699537843465805\n",
            "0.04014771059155464\n",
            "0.042121097445487976\n",
            "0.043182943016290665\n",
            "0.04220247268676758\n",
            "0.04178580641746521\n",
            "0.040825195610523224\n",
            "0.040388401597738266\n",
            "0.04022696986794472\n",
            "0.04013572260737419\n",
            "0.04041580483317375\n",
            "0.05141136422753334\n",
            "0.044846709817647934\n",
            "0.041320666670799255\n",
            "0.04069579392671585\n",
            "0.04064261540770531\n",
            "0.04016107693314552\n",
            "0.04011724889278412\n",
            "0.04065126180648804\n",
            "0.05193435028195381\n",
            "0.043404366821050644\n",
            "0.040487006306648254\n",
            "0.04054231941699982\n",
            "0.04064684733748436\n",
            "0.0405130460858345\n",
            "0.040660958737134933\n",
            "0.04491352289915085\n",
            "0.04023287072777748\n",
            "0.040537409484386444\n",
            "0.041071146726608276\n",
            "0.04250266030430794\n",
            "0.04030730947852135\n",
            "0.04052029922604561\n",
            "0.04611300677061081\n",
            "0.04087630659341812\n",
            "0.04011060297489166\n",
            "0.041365355253219604\n",
            "0.04019289091229439\n",
            "0.04008716344833374\n",
            "0.040515683591365814\n",
            "0.058011557906866074\n",
            "0.040905773639678955\n",
            "0.04226817563176155\n",
            "0.040524568408727646\n",
            "0.040144458413124084\n",
            "0.04013665392994881\n",
            "0.04018445312976837\n",
            "0.040091101080179214\n",
            "0.04010496288537979\n",
            "0.04077700525522232\n",
            "0.0499475933611393\n",
            "0.043773069977760315\n",
            "0.041678640991449356\n",
            "0.04079127684235573\n",
            "0.04018392413854599\n",
            "0.04042475298047066\n",
            "0.04090753197669983\n",
            "0.04371160641312599\n",
            "0.040095794945955276\n",
            "0.041473373770713806\n",
            "0.040613800287246704\n",
            "0.040288008749485016\n",
            "0.04285472258925438\n",
            "0.04203255847096443\n",
            "0.04020998999476433\n",
            "0.04015062004327774\n",
            "0.04054965078830719\n",
            "0.040080633014440536\n",
            "0.04055428504943848\n",
            "0.04705152288079262\n",
            "0.04156781733036041\n",
            "0.04066555202007294\n",
            "0.040106646716594696\n",
            "0.04070654511451721\n",
            "0.04113166406750679\n",
            "0.04174307361245155\n",
            "0.04105810448527336\n",
            "0.04013512656092644\n",
            "0.04033801704645157\n",
            "0.04966938495635986\n",
            "0.0443563312292099\n",
            "0.04159082472324371\n",
            "0.04071439802646637\n",
            "0.04055437073111534\n",
            "0.04006440192461014\n",
            "0.04022859036922455\n",
            "0.04254252091050148\n",
            "0.042142678052186966\n",
            "0.041470352560281754\n",
            "0.04071712866425514\n",
            "0.040669672191143036\n",
            "0.04016474634408951\n",
            "0.04066382348537445\n",
            "0.05051172152161598\n",
            "0.04375693202018738\n",
            "0.04133130609989166\n",
            "0.040786370635032654\n",
            "0.040158893913030624\n",
            "0.0404580682516098\n",
            "0.04109315574169159\n",
            "0.042979251593351364\n",
            "0.04006121680140495\n",
            "0.04153381288051605\n",
            "0.042292311787605286\n",
            "0.04006824642419815\n",
            "0.04172100871801376\n",
            "0.043419938534498215\n",
            "0.04127475991845131\n",
            "0.04028603434562683\n",
            "0.04027415066957474\n",
            "0.04311170056462288\n",
            "0.04094301164150238\n",
            "0.0413224920630455\n",
            "0.04060463234782219\n",
            "0.04134988412261009\n",
            "0.0405472032725811\n",
            "0.0403299555182457\n",
            "0.044299762696027756\n",
            "0.04014458507299423\n",
            "0.040127526968717575\n",
            "0.04007526859641075\n",
            "0.040438927710056305\n",
            "0.0400400310754776\n",
            "0.04003887251019478\n",
            "0.040805310010910034\n",
            "0.05287647619843483\n",
            "0.041453324258327484\n",
            "0.040361203253269196\n",
            "0.040333155542612076\n",
            "0.04007581248879433\n",
            "0.040115341544151306\n",
            "0.04004542902112007\n",
            "0.04027341678738594\n",
            "0.042718615382909775\n",
            "0.04076998308300972\n",
            "0.04133601114153862\n",
            "0.04002830758690834\n",
            "0.04052066057920456\n",
            "0.0449693463742733\n",
            "0.04023699089884758\n",
            "0.040219902992248535\n",
            "0.040990475565195084\n",
            "0.04069957137107849\n",
            "0.040399618446826935\n",
            "0.04186449572443962\n",
            "0.043403614312410355\n",
            "0.041741106659173965\n",
            "0.04011954739689827\n",
            "0.04119826853275299\n",
            "0.04110834747552872\n",
            "0.04034285247325897\n",
            "0.04083828255534172\n",
            "0.04689007252454758\n",
            "0.04184332489967346\n",
            "0.04044429212808609\n",
            "0.04031652584671974\n",
            "0.04036552459001541\n",
            "0.04169105738401413\n",
            "0.04179505631327629\n",
            "0.040253251791000366\n",
            "0.04204420745372772\n",
            "0.04131732136011124\n",
            "0.040509045124053955\n",
            "0.041906438767910004\n",
            "0.04093042016029358\n",
            "0.04010818898677826\n",
            "0.042447708547115326\n",
            "0.04235473647713661\n",
            "0.04134996607899666\n",
            "0.041051365435123444\n",
            "0.04002673178911209\n",
            "0.04077170789241791\n",
            "0.042455073446035385\n",
            "0.04039246216416359\n",
            "0.04074323549866676\n",
            "0.0422762930393219\n",
            "0.04030729457736015\n",
            "0.0404789038002491\n",
            "0.04398742690682411\n",
            "0.040031541138887405\n",
            "0.04078131541609764\n",
            "0.04036044329404831\n",
            "0.041423045098781586\n",
            "0.041566263884305954\n",
            "0.040005218237638474\n",
            "0.041193630546331406\n",
            "0.045240286737680435\n",
            "0.041788194328546524\n",
            "0.04020426794886589\n",
            "0.040614400058984756\n",
            "0.04000532627105713\n"
          ],
          "name": "stdout"
        }
      ]
    },
    {
      "cell_type": "code",
      "metadata": {
        "colab": {
          "base_uri": "https://localhost:8080/",
          "height": 265
        },
        "id": "so2Q2YSwc3L-",
        "outputId": "b6e9dfd6-fb0b-4a4f-8f09-3e4031e704a2"
      },
      "source": [
        "x = x.cpu()\n",
        "y=y.cpu()\n",
        "plt.scatter(x, y, label=\"ground-truth\")\n",
        "plt.scatter(x, y_hat.detach().cpu(), label=\"prediction\")\n",
        "plt.legend(loc=\"upper right\")\n",
        "plt.show()"
      ],
      "execution_count": 41,
      "outputs": [
        {
          "output_type": "display_data",
          "data": {
            "image/png": "[encoded data removed]",
            "text/plain": [
              "<Figure size 432x288 with 1 Axes>"
            ]
          },
          "metadata": {
            "tags": [],
            "needs_background": "light"
          }
        }
      ]
    },
    {
      "cell_type": "markdown",
      "metadata": {
        "id": "u7VeSImsd3Ny"
      },
      "source": [
        "##**Classification**##"
      ]
    },
    {
      "cell_type": "code",
      "metadata": {
        "colab": {
          "base_uri": "https://localhost:8080/",
          "height": 753,
          "referenced_widgets": [
            "fccd8492c2f342ef97615d18b73b57e8",
            "80e3b9b49ae5404e9d9ca015b629392c",
            "7c31c3c77ca940a0973dd56660a26e7a",
            "c086728be40e4289a9edbf72684764d3",
            "6411db8a44f7446691d40f82897dd2be",
            "8269a4d9271d4e4d910ce2f79b305f02",
            "d081f72d83554180abcbd7949fd3bdb6",
            "db2845cf844b4c209bad5e6c1dc8898b",
            "5c688edafcbb44e8ad9689ec9a653df6",
            "1ffe8ea540854e0d883c0661276b6593",
            "9936175b264f45dbbfa108a507097f5f",
            "06b34d57eddb490993d0bac158bafe9d",
            "c0262569c8724374a28efd8934a9fd24",
            "dc18d92e5d9745c1bf1805803b5f2a9c",
            "ab89abc17d434291bfb4289c3944e3cb",
            "d465127b73e64e49bfbc091e0f023b65",
            "04b3eae52f6f4ccabe2309ec1b0b40b9",
            "b9ac8cca221442e19cd1a35b99133efb",
            "64eb2e927a9f4e3292d1a90ef0e37900",
            "cbd82a7840304a93b5eee030cd5bb44c",
            "98f7969c3bf24c158e78318c7e8d3d3d",
            "e5ae77d1806647ee870fb6a4fe449784",
            "cee09c71161241b091a841c80191be29",
            "3fa9a455de9b45189b9b53a11bd22a14",
            "244229bd220044ffb836e1e5d1ea5e9d",
            "55f53163ec444c669ce6ab6a8d0d30fd",
            "72f23029a3f948e694356961fb42e281",
            "a806eddfbb3c4507a6ae1892ef304c2f",
            "ac0b7e597be24529ba37e0f44258aaa9",
            "553f895c1e724472a2df999de9bcb946",
            "27f000e805ae4cfbbcc85d2afb17a8d1",
            "2c64f92249c94e249e1215ab8404bfb5"
          ]
        },
        "id": "xwxhb6uOdN9g",
        "outputId": "87a4096b-b246-4a63-8194-25c5cb752d4c"
      },
      "source": [
        "from torchvision import datasets, transforms\n",
        "\n",
        "transform = transforms.Compose([transforms.ToTensor(),\n",
        "                              transforms.Normalize((0.5,), (0.5,)),\n",
        "                              ])\n",
        "\n",
        "train_dataset = datasets.MNIST('./mnist/MNIST_data/', download=True, train=True, transform=transform)\n",
        "test_dataset = datasets.MNIST('./mnist/MNIST_data/', download=True, train=False, transform=transform)\n",
        "\n",
        "train_dataloader = torch.utils.data.DataLoader(train_dataset, batch_size=64, shuffle=True)\n",
        "test_dataloader = torch.utils.data.DataLoader(test_dataset, batch_size=64, shuffle=True)\n",
        "\n",
        "print(len(train_dataset), len(test_dataset))"
      ],
      "execution_count": 10,
      "outputs": [
        {
          "output_type": "stream",
          "text": [
            "Downloading http://yann.lecun.com/exdb/mnist/train-images-idx3-ubyte.gz\n",
            "Downloading http://yann.lecun.com/exdb/mnist/train-images-idx3-ubyte.gz to ./mnist/MNIST_data/MNIST/raw/train-images-idx3-ubyte.gz\n",
            "Failed to download (trying next):\n",
            "HTTP Error 503: Service Unavailable\n",
            "\n",
            "Downloading https://ossci-datasets.s3.amazonaws.com/mnist/train-images-idx3-ubyte.gz\n",
            "Downloading https://ossci-datasets.s3.amazonaws.com/mnist/train-images-idx3-ubyte.gz to ./mnist/MNIST_data/MNIST/raw/train-images-idx3-ubyte.gz\n"
          ],
          "name": "stdout"
        },
        {
          "output_type": "display_data",
          "data": {
            "application/vnd.jupyter.widget-view+json": {
              "model_id": "fccd8492c2f342ef97615d18b73b57e8",
              "version_minor": 0,
              "version_major": 2
            },
            "text/plain": [
              "HBox(children=(FloatProgress(value=0.0, max=9912422.0), HTML(value='')))"
            ]
          },
          "metadata": {
            "tags": []
          }
        },
        {
          "output_type": "stream",
          "text": [
            "\n",
            "Extracting ./mnist/MNIST_data/MNIST/raw/train-images-idx3-ubyte.gz to ./mnist/MNIST_data/MNIST/raw\n",
            "\n",
            "Downloading http://yann.lecun.com/exdb/mnist/train-labels-idx1-ubyte.gz\n",
            "Downloading http://yann.lecun.com/exdb/mnist/train-labels-idx1-ubyte.gz to ./mnist/MNIST_data/MNIST/raw/train-labels-idx1-ubyte.gz\n"
          ],
          "name": "stdout"
        },
        {
          "output_type": "display_data",
          "data": {
            "application/vnd.jupyter.widget-view+json": {
              "model_id": "5c688edafcbb44e8ad9689ec9a653df6",
              "version_minor": 0,
              "version_major": 2
            },
            "text/plain": [
              "HBox(children=(FloatProgress(value=0.0, max=28881.0), HTML(value='')))"
            ]
          },
          "metadata": {
            "tags": []
          }
        },
        {
          "output_type": "stream",
          "text": [
            "\n",
            "Extracting ./mnist/MNIST_data/MNIST/raw/train-labels-idx1-ubyte.gz to ./mnist/MNIST_data/MNIST/raw\n",
            "\n",
            "Downloading http://yann.lecun.com/exdb/mnist/t10k-images-idx3-ubyte.gz\n",
            "Downloading http://yann.lecun.com/exdb/mnist/t10k-images-idx3-ubyte.gz to ./mnist/MNIST_data/MNIST/raw/t10k-images-idx3-ubyte.gz\n",
            "Failed to download (trying next):\n",
            "HTTP Error 503: Service Unavailable\n",
            "\n",
            "Downloading https://ossci-datasets.s3.amazonaws.com/mnist/t10k-images-idx3-ubyte.gz\n",
            "Downloading https://ossci-datasets.s3.amazonaws.com/mnist/t10k-images-idx3-ubyte.gz to ./mnist/MNIST_data/MNIST/raw/t10k-images-idx3-ubyte.gz\n"
          ],
          "name": "stdout"
        },
        {
          "output_type": "display_data",
          "data": {
            "application/vnd.jupyter.widget-view+json": {
              "model_id": "04b3eae52f6f4ccabe2309ec1b0b40b9",
              "version_minor": 0,
              "version_major": 2
            },
            "text/plain": [
              "HBox(children=(FloatProgress(value=0.0, max=1648877.0), HTML(value='')))"
            ]
          },
          "metadata": {
            "tags": []
          }
        },
        {
          "output_type": "stream",
          "text": [
            "\n",
            "Extracting ./mnist/MNIST_data/MNIST/raw/t10k-images-idx3-ubyte.gz to ./mnist/MNIST_data/MNIST/raw\n",
            "\n",
            "Downloading http://yann.lecun.com/exdb/mnist/t10k-labels-idx1-ubyte.gz\n",
            "Downloading http://yann.lecun.com/exdb/mnist/t10k-labels-idx1-ubyte.gz to ./mnist/MNIST_data/MNIST/raw/t10k-labels-idx1-ubyte.gz\n"
          ],
          "name": "stdout"
        },
        {
          "output_type": "display_data",
          "data": {
            "application/vnd.jupyter.widget-view+json": {
              "model_id": "244229bd220044ffb836e1e5d1ea5e9d",
              "version_minor": 0,
              "version_major": 2
            },
            "text/plain": [
              "HBox(children=(FloatProgress(value=0.0, max=4542.0), HTML(value='')))"
            ]
          },
          "metadata": {
            "tags": []
          }
        },
        {
          "output_type": "stream",
          "text": [
            "\n",
            "Extracting ./mnist/MNIST_data/MNIST/raw/t10k-labels-idx1-ubyte.gz to ./mnist/MNIST_data/MNIST/raw\n",
            "\n",
            "Processing...\n",
            "Done!\n",
            "60000 10000\n"
          ],
          "name": "stdout"
        },
        {
          "output_type": "stream",
          "text": [
            "/usr/local/lib/python3.7/dist-packages/torchvision/datasets/mnist.py:502: UserWarning: The given NumPy array is not writeable, and PyTorch does not support non-writeable tensors. This means you can write to the underlying (supposedly non-writeable) NumPy array using the tensor. You may want to copy the array to protect its data or make it writeable before converting it to a tensor. This type of warning will be suppressed for the rest of this program. (Triggered internally at  /pytorch/torch/csrc/utils/tensor_numpy.cpp:143.)\n",
            "  return torch.from_numpy(parsed.astype(m[2], copy=False)).view(*s)\n"
          ],
          "name": "stderr"
        }
      ]
    },
    {
      "cell_type": "code",
      "metadata": {
        "colab": {
          "base_uri": "https://localhost:8080/"
        },
        "id": "4DA-1SJ0eKR4",
        "outputId": "47b7e848-86bc-4255-8c63-707e0a89b08f"
      },
      "source": [
        "from torchsummary import summary\n",
        "\n",
        "model = torch.nn.Sequential(\n",
        "            torch.nn.Linear(28*28, 1024),\n",
        "            TFact(),\n",
        "            torch.nn.Linear(1024,512),\n",
        "            TFact(),\n",
        "            torch.nn.Linear(512,10),\n",
        "        )\n",
        "\n",
        "\n",
        "device = torch.device(\"cuda:0\" if torch.cuda.is_available() else \"cpu\")\n",
        "model.to(device)\n",
        "summary(model,(784,))\n",
        "optimizer = torch.optim.Adam(model.parameters(), lr=0.01)\n",
        "\n",
        "def probabilties_from_scores(y):\n",
        "    f = torch.nn.Softmax(dim=1)\n",
        "    p = f(y)\n",
        "    return p\n",
        "\n",
        "def loss(y_hat, y):\n",
        "    # y_hat has shape (N, 10) for 10 classes, y has shape (N,) \n",
        "    f = torch.nn.CrossEntropyLoss()\n",
        "    return f(y_hat, y)\n",
        "\n"
      ],
      "execution_count": 11,
      "outputs": [
        {
          "output_type": "stream",
          "text": [
            "----------------------------------------------------------------\n",
            "        Layer (type)               Output Shape         Param #\n",
            "================================================================\n",
            "            Linear-1                 [-1, 1024]         803,840\n",
            "             TFact-2                 [-1, 1024]               0\n",
            "            Linear-3                  [-1, 512]         524,800\n",
            "             TFact-4                  [-1, 512]               0\n",
            "            Linear-5                   [-1, 10]           5,130\n",
            "================================================================\n",
            "Total params: 1,333,770\n",
            "Trainable params: 1,333,770\n",
            "Non-trainable params: 0\n",
            "----------------------------------------------------------------\n",
            "Input size (MB): 0.00\n",
            "Forward/backward pass size (MB): 0.02\n",
            "Params size (MB): 5.09\n",
            "Estimated Total Size (MB): 5.11\n",
            "----------------------------------------------------------------\n"
          ],
          "name": "stdout"
        }
      ]
    },
    {
      "cell_type": "code",
      "metadata": {
        "colab": {
          "base_uri": "https://localhost:8080/"
        },
        "id": "tlIFTOMEeWG7",
        "outputId": "1452b7ae-2d80-474b-9c89-26d5384f0ee0"
      },
      "source": [
        "def evaluate(dataloader, model, log=False):\n",
        "    correct_count, total_count = 0, 0\n",
        "    for images_batch, labels_batch in dataloader:\n",
        "        images_batch, labels_batch = images_batch.to(device), labels_batch.to(device)\n",
        "        images = images_batch.reshape(images_batch.shape[0], 28*28)\n",
        "        scores = model(images)\n",
        "        probabilities = probabilties_from_scores(scores)\n",
        "        \n",
        "        pred_label = probabilities.max(1, keepdim=True)[1]\n",
        "        correct_count += pred_label.eq(labels_batch.view_as(pred_label)).sum().item()\n",
        "        total_count += labels_batch.shape[0]\n",
        "\n",
        "    if log:\n",
        "        print(\"Number Of Images Tested =\", total_count)\n",
        "        print(\"Model Accuracy =\", (correct_count/total_count))\n",
        "    \n",
        "    return (correct_count/total_count)\n",
        "\n",
        "result = evaluate(test_dataloader, model, log=True)"
      ],
      "execution_count": 12,
      "outputs": [
        {
          "output_type": "stream",
          "text": [
            "Number Of Images Tested = 10000\n",
            "Model Accuracy = 0.0832\n"
          ],
          "name": "stdout"
        }
      ]
    },
    {
      "cell_type": "code",
      "metadata": {
        "colab": {
          "base_uri": "https://localhost:8080/"
        },
        "id": "IG2S7A32eduX",
        "outputId": "22fe935b-bdd1-4443-8175-8731740d821b"
      },
      "source": [
        "epochs = 15\n",
        "for epoch in range(epochs):\n",
        "    running_loss = 0\n",
        "    for images_batch, labels_batch in train_dataloader:\n",
        "        images_batch, labels_batch = images_batch.to(device), labels_batch.to(device)\n",
        "        images_batch = images_batch.reshape(images_batch.shape[0], 28*28)   # Flatten MNIST images into a 784 long vector\n",
        "        # forward pass\n",
        "        y_hat = model(images_batch)\n",
        "        y = labels_batch\n",
        "        L = loss(y_hat, y)\n",
        "        \n",
        "        # backward pass\n",
        "        optimizer.zero_grad()\n",
        "        L.backward()\n",
        "        \n",
        "        # update parameters\n",
        "        optimizer.step()\n",
        "        \n",
        "        running_loss += L.item()\n",
        "        \n",
        "    training_loss = running_loss/len(train_dataloader)\n",
        "    train_accuracy = evaluate(train_dataloader, model)\n",
        "    test_accuracy = evaluate(test_dataloader, model)                                  \n",
        "    \n",
        "    if epoch % 1 == 0:\n",
        "        print(\"Epoch {} - Training loss: {}  Train Accuracy: {}  Test Accuracy: {}\".format(epoch, training_loss, train_accuracy, test_accuracy))\n",
        "    \n",
        "    if test_accuracy > 0.98:\n",
        "      break"
      ],
      "execution_count": 13,
      "outputs": [
        {
          "output_type": "stream",
          "text": [
            "Epoch 0 - Training loss: 0.42301839333512126  Train Accuracy: 0.9312666666666667  Test Accuracy: 0.9314\n",
            "Epoch 1 - Training loss: 0.24671091690961358  Train Accuracy: 0.9441333333333334  Test Accuracy: 0.941\n",
            "Epoch 2 - Training loss: 0.22821134743568644  Train Accuracy: 0.94655  Test Accuracy: 0.9426\n",
            "Epoch 3 - Training loss: 0.19778410219120732  Train Accuracy: 0.9418833333333333  Test Accuracy: 0.9383\n",
            "Epoch 4 - Training loss: 0.20060124849257216  Train Accuracy: 0.94835  Test Accuracy: 0.9462\n",
            "Epoch 5 - Training loss: 0.18734372943254518  Train Accuracy: 0.9532333333333334  Test Accuracy: 0.9469\n",
            "Epoch 6 - Training loss: 0.1836793786123284  Train Accuracy: 0.9487333333333333  Test Accuracy: 0.9436\n",
            "Epoch 7 - Training loss: 0.1761662705219599  Train Accuracy: 0.95455  Test Accuracy: 0.9504\n",
            "Epoch 8 - Training loss: 0.17382533157141064  Train Accuracy: 0.9591833333333334  Test Accuracy: 0.9512\n",
            "Epoch 9 - Training loss: 0.1642446978065346  Train Accuracy: 0.9569666666666666  Test Accuracy: 0.9534\n",
            "Epoch 10 - Training loss: 0.15856016483326663  Train Accuracy: 0.9597  Test Accuracy: 0.953\n",
            "Epoch 11 - Training loss: 0.15580458506824635  Train Accuracy: 0.96245  Test Accuracy: 0.9548\n",
            "Epoch 12 - Training loss: 0.15935163447426867  Train Accuracy: 0.9670166666666666  Test Accuracy: 0.9583\n",
            "Epoch 13 - Training loss: 0.1545963998345821  Train Accuracy: 0.95835  Test Accuracy: 0.951\n",
            "Epoch 14 - Training loss: 0.14755795080699266  Train Accuracy: 0.9633833333333334  Test Accuracy: 0.9494\n"
          ],
          "name": "stdout"
        }
      ]
    },
    {
      "cell_type": "code",
      "metadata": {
        "colab": {
          "base_uri": "https://localhost:8080/"
        },
        "id": "hZQRElX3ekBe",
        "outputId": "d8d1a162-6ed2-4a37-bcf6-103994e56e05"
      },
      "source": [
        "result = evaluate(test_dataloader, model, log=True)"
      ],
      "execution_count": 14,
      "outputs": [
        {
          "output_type": "stream",
          "text": [
            "Number Of Images Tested = 10000\n",
            "Model Accuracy = 0.9494\n"
          ],
          "name": "stdout"
        }
      ]
    }
  ]
}